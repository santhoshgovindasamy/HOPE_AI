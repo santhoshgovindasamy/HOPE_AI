{
 "cells": [
  {
   "cell_type": "code",
   "execution_count": null,
   "id": "f0102374-7282-44d2-9818-f4b0f2e83d36",
   "metadata": {},
   "outputs": [],
   "source": [
    "#Extra_Assignment_Question-2"
   ]
  },
  {
   "cell_type": "code",
   "execution_count": 25,
   "id": "a8f17247-e38b-435c-9649-687e4d01901c",
   "metadata": {},
   "outputs": [
    {
     "name": "stdout",
     "output_type": "stream",
     "text": [
      "0\n",
      "1\n",
      "2\n",
      "3\n",
      "4\n",
      "5\n",
      "6\n",
      "7\n",
      "8\n",
      "9\n",
      "10\n",
      "11\n",
      "12\n",
      "13\n",
      "14\n",
      "15\n",
      "16\n",
      "17\n",
      "18\n",
      "19\n"
     ]
    }
   ],
   "source": [
    "range1=range(0,20)\n",
    "for num in range1:\n",
    "    print(num)"
   ]
  },
  {
   "cell_type": "code",
   "execution_count": null,
   "id": "da816f0a-7155-498b-a408-52179f28d884",
   "metadata": {},
   "outputs": [],
   "source": []
  },
  {
   "cell_type": "code",
   "execution_count": 35,
   "id": "ac51ca5a-1441-4fcf-b05a-cf8c1c19e321",
   "metadata": {},
   "outputs": [
    {
     "name": "stdout",
     "output_type": "stream",
     "text": [
      "10 11 12 13 14 15 16 17 18 19 "
     ]
    }
   ],
   "source": [
    "range1=range(10,20)\n",
    "for num in range1:\n",
    "    print(num, end=\" \")"
   ]
  },
  {
   "cell_type": "code",
   "execution_count": null,
   "id": "649b8887-393a-48f0-ba06-99320bee683e",
   "metadata": {},
   "outputs": [],
   "source": []
  },
  {
   "cell_type": "code",
   "execution_count": 38,
   "id": "13af4f6b-321d-4286-b760-c077afe94ac8",
   "metadata": {},
   "outputs": [
    {
     "name": "stdout",
     "output_type": "stream",
     "text": [
      "[10, 13, 16, 19]\n",
      "Number of item in the List2:  4\n"
     ]
    }
   ],
   "source": [
    "List2=[num for num in range(10,20,3)]\n",
    "print(List2)\n",
    "print(\"Number of item in the List2: \",len(List2))"
   ]
  }
 ],
 "metadata": {
  "kernelspec": {
   "display_name": "Python 3 (ipykernel)",
   "language": "python",
   "name": "python3"
  },
  "language_info": {
   "codemirror_mode": {
    "name": "ipython",
    "version": 3
   },
   "file_extension": ".py",
   "mimetype": "text/x-python",
   "name": "python",
   "nbconvert_exporter": "python",
   "pygments_lexer": "ipython3",
   "version": "3.11.7"
  }
 },
 "nbformat": 4,
 "nbformat_minor": 5
}
