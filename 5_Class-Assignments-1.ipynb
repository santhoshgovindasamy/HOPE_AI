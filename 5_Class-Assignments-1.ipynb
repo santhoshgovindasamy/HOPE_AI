{
 "cells": [
  {
   "cell_type": "code",
   "execution_count": 1,
   "id": "152ec0a5-379c-44b8-881c-ec9db8d6ccbb",
   "metadata": {},
   "outputs": [
    {
     "name": "stdout",
     "output_type": "stream",
     "text": [
      "Sub-fields in AI are:\n",
      "Machine Learning\n",
      "Neural Networks\n",
      "Vision\n",
      "Robotics\n",
      "Speech Processing\n",
      "Natural Language Processing\n"
     ]
    }
   ],
   "source": [
    "# Create a class and function, and list out the items in the list\n",
    "class SubfieldsInAI():\n",
    "    def Subfields():\n",
    "        SubfieldsInAI=[\"Machine Learning\",\"Neural Networks\",\"Vision\",\"Robotics\",\"Speech Processing\",\"Natural Language Processing\"]\n",
    "        print(\"Sub-fields in AI are:\")  \n",
    "        for list in SubfieldsInAI:\n",
    "            print(list)\n",
    "        \n",
    "SubfieldsInAI.Subfields()"
   ]
  },
  {
   "cell_type": "code",
   "execution_count": null,
   "id": "b1c05d65-66ca-4f37-b2c8-3536f95a84c8",
   "metadata": {},
   "outputs": [],
   "source": []
  },
  {
   "cell_type": "code",
   "execution_count": 5,
   "id": "a9240028-b21c-4f71-87bf-bfad28faf4e0",
   "metadata": {},
   "outputs": [
    {
     "name": "stdin",
     "output_type": "stream",
     "text": [
      "Enter a number to check odd or even: 52454\n"
     ]
    },
    {
     "name": "stdout",
     "output_type": "stream",
     "text": [
      "52454 is Even Number\n"
     ]
    }
   ],
   "source": [
    "# Create a function that checks whether the given number is Odd or Even\n",
    "class oddeven():\n",
    "    def oddoreven(x,y):\n",
    "        if(x == 0):\n",
    "            print(y,\"is Even Number\")\n",
    "        else:\n",
    "            print(y,\"is Odd Number\")\n",
    "\n",
    "\n",
    "num=int(input(\"Enter a number to check odd or even:\"))\n",
    "remainder = num%2\n",
    "oddeven.oddoreven(remainder,num)"
   ]
  },
  {
   "cell_type": "code",
   "execution_count": null,
   "id": "b6b7f662-c6f1-4e5c-80ae-81b2aa9b26e1",
   "metadata": {},
   "outputs": [],
   "source": []
  },
  {
   "cell_type": "code",
   "execution_count": 8,
   "id": "d0c2281e-01ef-403f-835d-faa3f0cc249d",
   "metadata": {},
   "outputs": [
    {
     "name": "stdin",
     "output_type": "stream",
     "text": [
      "Enter your Gender: Male\n",
      "Enter your Age: 20\n"
     ]
    },
    {
     "name": "stdout",
     "output_type": "stream",
     "text": [
      "NOT ELIGIBLE\n"
     ]
    }
   ],
   "source": [
    "# Create a function that tells elegibility of marriage for male and female according to their age limit like 21 for male and 18 for female\n",
    "class ElegiblityForMarriage():\n",
    "    def elegibility(x,y):\n",
    "        if (x==\"male\" and y> 21) or (x==\"female\" and y>18):\n",
    "            print(\"ELIGIBLE\")\n",
    "        else:\n",
    "            print(\"NOT ELIGIBLE\")\n",
    "Gender=input(\"Enter your Gender:\").lower()\n",
    "Age=int(input(\"Enter your Age:\"))\n",
    "ElegiblityForMarriage.elegibility(Gender,Age)\n",
    "\n"
   ]
  },
  {
   "cell_type": "code",
   "execution_count": null,
   "id": "b81b1207-c307-42d7-a3e8-7de7bd5d79cb",
   "metadata": {},
   "outputs": [],
   "source": []
  },
  {
   "cell_type": "code",
   "execution_count": 9,
   "id": "bb37c9f9-965b-4e33-846d-1856bebdb363",
   "metadata": {},
   "outputs": [
    {
     "name": "stdin",
     "output_type": "stream",
     "text": [
      "Subject1 = 98\n",
      "Subject2 = 87\n",
      "Subject3 = 95\n",
      "Subject4 = 95\n",
      "Subject5 = 93\n"
     ]
    },
    {
     "name": "stdout",
     "output_type": "stream",
     "text": [
      "Total : 468\n",
      "Percentage: 93.6000000000000\n"
     ]
    }
   ],
   "source": [
    "# calculate the percentage of your 10th mark\n",
    "#mark=[98,87,95,95,93]\n",
    "class FindPercent():\n",
    "    def percentage():\n",
    "        sub=[\"Subject1\",\"Subject2\",\"Subject3\",\"Subject4\",\"Subject5\"]\n",
    "        mark1=int(input(\"Subject1 =\"))\n",
    "        mark2=int(input(\"Subject2 =\"))\n",
    "        mark3=int(input(\"Subject3 =\"))\n",
    "        mark4=int(input(\"Subject4 =\"))\n",
    "        mark5=int(input(\"Subject5 =\"))\n",
    "        total=mark1+mark2+mark3+mark4+mark5\n",
    "        count=len(sub)\n",
    "        print(\"Total :\",total)\n",
    "        percentage=total/count\n",
    "        print(f\"Percentage: {percentage:.13f}\")\n",
    "FindPercent.percentage()"
   ]
  },
  {
   "cell_type": "code",
   "execution_count": null,
   "id": "e2414c92-0089-41b4-9d8e-9ed734439c2b",
   "metadata": {},
   "outputs": [],
   "source": []
  },
  {
   "cell_type": "code",
   "execution_count": 10,
   "id": "7180d71e-9f56-4f3f-ada7-eedff3626097",
   "metadata": {},
   "outputs": [
    {
     "name": "stdin",
     "output_type": "stream",
     "text": [
      "Height: 32\n",
      "Breadth: 34\n"
     ]
    },
    {
     "name": "stdout",
     "output_type": "stream",
     "text": [
      "Area formula:(Height*Breadth)/2\n",
      "Area of Triangle: 544.0\n"
     ]
    },
    {
     "name": "stdin",
     "output_type": "stream",
     "text": [
      "Height1: 2\n",
      "Height2: 4\n",
      "Breadth: 4\n"
     ]
    },
    {
     "name": "stdout",
     "output_type": "stream",
     "text": [
      "Perimeter formula: Height1+Height2+Breadth\n",
      "Perimeter of Triangle: 10\n"
     ]
    }
   ],
   "source": [
    "#print area and perimeter of triangle using class and functions\n",
    "class Triangle():\n",
    "    def triangle():\n",
    "        height=int(input(\"Height:\"))\n",
    "        breadth=int(input(\"Breadth:\"))\n",
    "        area=(height*breadth)/2\n",
    "        print(\"Area formula:(Height*Breadth)/2\")\n",
    "        print(\"Area of Triangle:\",area)\n",
    "        height1=int(input(\"Height1:\"))\n",
    "        height2=int(input(\"Height2:\"))\n",
    "        breadth=int(input(\"Breadth:\"))\n",
    "        perimeter=height1+height2+breadth\n",
    "        print(\"Perimeter formula: Height1+Height2+Breadth\")\n",
    "        print(\"Perimeter of Triangle:\",perimeter)\n",
    "    \n",
    "Triangle.triangle()"
   ]
  }
 ],
 "metadata": {
  "kernelspec": {
   "display_name": "Python 3 (ipykernel)",
   "language": "python",
   "name": "python3"
  },
  "language_info": {
   "codemirror_mode": {
    "name": "ipython",
    "version": 3
   },
   "file_extension": ".py",
   "mimetype": "text/x-python",
   "name": "python",
   "nbconvert_exporter": "python",
   "pygments_lexer": "ipython3",
   "version": "3.11.7"
  }
 },
 "nbformat": 4,
 "nbformat_minor": 5
}
