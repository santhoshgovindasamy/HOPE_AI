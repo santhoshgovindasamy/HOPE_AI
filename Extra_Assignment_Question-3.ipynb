{
 "cells": [
  {
   "cell_type": "code",
   "execution_count": null,
   "id": "a148774d-ac79-4895-9b40-f251a4e2143e",
   "metadata": {},
   "outputs": [],
   "source": [
    "Extra_Assignment_Question-3"
   ]
  },
  {
   "cell_type": "code",
   "execution_count": 3,
   "id": "b659ba49-942d-4627-9e41-923fb256eaea",
   "metadata": {},
   "outputs": [
    {
     "name": "stdin",
     "output_type": "stream",
     "text": [
      "value:  10\n"
     ]
    },
    {
     "name": "stdout",
     "output_type": "stream",
     "text": [
      "Corret\n"
     ]
    }
   ],
   "source": [
    "value=int(input(\"value: \"))\n",
    "if(value==10):\n",
    "    print(\"Corret\")"
   ]
  },
  {
   "cell_type": "code",
   "execution_count": null,
   "id": "b02e67a6-a55f-4445-9baf-6fe3c10a44ad",
   "metadata": {},
   "outputs": [],
   "source": []
  },
  {
   "cell_type": "code",
   "execution_count": 12,
   "id": "85bf4c4f-5583-4206-97d2-df30719d2450",
   "metadata": {},
   "outputs": [
    {
     "name": "stdin",
     "output_type": "stream",
     "text": [
      "Enter the password: HOPE@123\n"
     ]
    },
    {
     "name": "stdout",
     "output_type": "stream",
     "text": [
      "Your password is correct\n"
     ]
    }
   ],
   "source": [
    "password=input(\"Enter the password:\")\n",
    "if(password == \"HOPE@123\"):\n",
    "    print(\"Your password is correct\")"
   ]
  },
  {
   "cell_type": "code",
   "execution_count": 19,
   "id": "80c6a6a6-ca62-4136-acae-e7434407013b",
   "metadata": {},
   "outputs": [
    {
     "name": "stdin",
     "output_type": "stream",
     "text": [
      "Enter your age: 17\n"
     ]
    },
    {
     "name": "stdout",
     "output_type": "stream",
     "text": [
      "You are a adult\n"
     ]
    }
   ],
   "source": [
    "# Catagory the people by their age like children, adult, citizen, senior citizen.\n",
    "age=int(input(\"Enter your age:\"))\n",
    "if age <= 15:\n",
    "    print(\"You are a children\")\n",
    "elif age >= 15 and age < 18:\n",
    "    print(\"You are a adult\")\n",
    "elif age >= 18 and age < 60:\n",
    "    print(\"You are an citizen\")\n",
    "elif age >= 60:\n",
    "    print(\"You are an senior citizen\")"
   ]
  },
  {
   "cell_type": "code",
   "execution_count": null,
   "id": "0d3f1699-3799-4686-9800-6ca685f62f52",
   "metadata": {},
   "outputs": [],
   "source": []
  },
  {
   "cell_type": "code",
   "execution_count": 23,
   "id": "87be0871-bcd7-4ab9-8cb0-0a54fff974d8",
   "metadata": {},
   "outputs": [
    {
     "name": "stdin",
     "output_type": "stream",
     "text": [
      "Enter any number: -10\n"
     ]
    },
    {
     "name": "stdout",
     "output_type": "stream",
     "text": [
      "Number is Negative\n"
     ]
    }
   ],
   "source": [
    "# Find whether given number is positive or negative\n",
    "num=int(input(\"Enter any number:\"))\n",
    "if (num >= 0):\n",
    "    print(\"Number is Positive\")\n",
    "elif(num <0):\n",
    "    print(\"Number is Negative\")"
   ]
  },
  {
   "cell_type": "code",
   "execution_count": null,
   "id": "c503c096-98fc-40d3-babf-d42cb5fc98e6",
   "metadata": {},
   "outputs": [],
   "source": []
  },
  {
   "cell_type": "code",
   "execution_count": 33,
   "id": "76cd592c-8f28-46e3-b834-25921e379de8",
   "metadata": {},
   "outputs": [
    {
     "name": "stdin",
     "output_type": "stream",
     "text": [
      "Enter a number to check: 14\n"
     ]
    },
    {
     "name": "stdout",
     "output_type": "stream",
     "text": [
      "Number is not divisible by 5\n"
     ]
    }
   ],
   "source": [
    "# Check whether the given number is divisible by 5\n",
    "num=int(input(\"Enter a number to check:\"))\n",
    "result= num%5\n",
    "if (result == 0):\n",
    "    print(\"Number is divisible by 5\")\n",
    "else:\n",
    "    print(\"Number is not divisible by 5\")"
   ]
  }
 ],
 "metadata": {
  "kernelspec": {
   "display_name": "Python 3 (ipykernel)",
   "language": "python",
   "name": "python3"
  },
  "language_info": {
   "codemirror_mode": {
    "name": "ipython",
    "version": 3
   },
   "file_extension": ".py",
   "mimetype": "text/x-python",
   "name": "python",
   "nbconvert_exporter": "python",
   "pygments_lexer": "ipython3",
   "version": "3.11.7"
  }
 },
 "nbformat": 4,
 "nbformat_minor": 5
}
