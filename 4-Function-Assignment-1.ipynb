{
 "cells": [
  {
   "cell_type": "code",
   "execution_count": 2,
   "id": "b82c8332-fbde-490f-9de1-85bdaba91c8d",
   "metadata": {},
   "outputs": [],
   "source": [
    " #Create a class and function, and list out the items in the list\n",
    "SubfieldsInAI= [\"Machine Learning\",\"Neural Networks\",\"Vision\",\"Robotics\",\"Speech Processing\",\"Natural Language Processing\"]"
   ]
  },
  {
   "cell_type": "code",
   "execution_count": 3,
   "id": "46da0538-c51a-4742-aa84-2cd2a8ef9c18",
   "metadata": {},
   "outputs": [],
   "source": [
    "def Subfields():\n",
    "    print(\"Subfields in AI are:\")\n",
    "    for sub in SubfieldsInAI:\n",
    "        print(sub)"
   ]
  },
  {
   "cell_type": "code",
   "execution_count": 4,
   "id": "a2d27fe7-14c8-4248-a91d-e4f470abab95",
   "metadata": {},
   "outputs": [
    {
     "name": "stdout",
     "output_type": "stream",
     "text": [
      "Subfields in AI are:\n",
      "Machine Learning\n",
      "Neural Networks\n",
      "Vision\n",
      "Robotics\n",
      "Speech Processing\n",
      "Natural Language Processing\n"
     ]
    }
   ],
   "source": [
    "Subfields()"
   ]
  },
  {
   "cell_type": "code",
   "execution_count": null,
   "id": "9bf45139-4109-4123-816f-cb2dac40c626",
   "metadata": {},
   "outputs": [],
   "source": []
  },
  {
   "cell_type": "code",
   "execution_count": 15,
   "id": "313e325d-2a70-4972-8425-597f5d085cb7",
   "metadata": {},
   "outputs": [
    {
     "name": "stdin",
     "output_type": "stream",
     "text": [
      "Enter a number to check odd or even: 7\n"
     ]
    },
    {
     "name": "stdout",
     "output_type": "stream",
     "text": [
      "7 is Odd Number\n"
     ]
    }
   ],
   "source": [
    "# Create a function that checks whether the given number is Odd or Even\n",
    "def oddoreven(x,y):\n",
    "    match x:\n",
    "        case 0:\n",
    "            print(y,\"is Even Number\")\n",
    "        case 1:\n",
    "            print(y,\"is Odd Number\")\n",
    "num=int(input(\"Enter a number to check odd or even:\"))\n",
    "remainder = num%2\n",
    "oddoreven(remainder,num)"
   ]
  },
  {
   "cell_type": "code",
   "execution_count": 32,
   "id": "495bd6d0-22e3-4308-b632-12e1d530c987",
   "metadata": {},
   "outputs": [
    {
     "name": "stdin",
     "output_type": "stream",
     "text": [
      "Enter your Gender: Male\n",
      "Enter your Age: 23\n"
     ]
    },
    {
     "name": "stdout",
     "output_type": "stream",
     "text": [
      "ELIGIBLE\n"
     ]
    }
   ],
   "source": [
    "# Create a function that tells elegibility of marriage for male and female according to their age limit like 21 for male and 18 for female\n",
    "def elegibility(x,y):\n",
    "    if (x==\"male\" and y> 21) or (x==\"female\" and y>18):\n",
    "        print(\"ELIGIBLE\")\n",
    "    else:\n",
    "        print(\"NOT ELIGIBLE\")\n",
    "Gender=input(\"Enter your Gender:\").lower()\n",
    "Age=int(input(\"Enter your Age:\"))\n",
    "elegibility(Gender,Age)\n"
   ]
  },
  {
   "cell_type": "code",
   "execution_count": null,
   "id": "4b7a6606-f843-4515-b267-ea74508e1aab",
   "metadata": {},
   "outputs": [],
   "source": []
  },
  {
   "cell_type": "code",
   "execution_count": 68,
   "id": "2a75e9e4-1972-4fc1-8f43-714dd843080d",
   "metadata": {},
   "outputs": [
    {
     "name": "stdout",
     "output_type": "stream",
     "text": [
      "Subject1 = 98\n",
      "Subject2 = 87\n",
      "Subject3 = 95\n",
      "Subject4 = 95\n",
      "Subject5 = 93\n",
      "Total : 468\n",
      "Percentage: 93.6000000000000\n"
     ]
    }
   ],
   "source": [
    "# calculate the percentage of your 10th mark\n",
    "sub=[\"Subject1\",\"Subject2\",\"Subject3\",\"Subject4\",\"Subject5\"]\n",
    "mark=[98,87,95,95,93]\n",
    "total=0\n",
    "count=len(sub)\n",
    "for i in range(0,count):\n",
    "    print(sub[i],\"=\",mark[i])\n",
    "for i in range(0,len(sub)):\n",
    "    total=total+mark[i]\n",
    "print(\"Total :\",total)\n",
    "percentage=total/count\n",
    "print(f\"Percentage: {percentage:.13f}\")\n",
    "\n",
    "    \n"
   ]
  },
  {
   "cell_type": "code",
   "execution_count": null,
   "id": "1651f401-85ec-4ac3-a019-2001a40d7cde",
   "metadata": {},
   "outputs": [],
   "source": []
  },
  {
   "cell_type": "code",
   "execution_count": 69,
   "id": "4d38c169-4702-479d-bc52-708aed06f6b9",
   "metadata": {},
   "outputs": [
    {
     "name": "stdin",
     "output_type": "stream",
     "text": [
      "Enter the first side of the triangle :  32\n",
      "Enter the second side of the triangle :  32\n",
      "Enter the third side of the triangle :  34\n"
     ]
    },
    {
     "name": "stdout",
     "output_type": "stream",
     "text": [
      "The perimeter of the triangle is : 98.00\n",
      "The area of the triangle is : 460.89\n"
     ]
    }
   ],
   "source": [
    " #print area and perimeter of triangle using class and functions\n",
    "def perimeter(a,b,c):\n",
    "    p=a+b+c\n",
    "    return p\n",
    "\n",
    "def triagearea(x,y,z,w):\n",
    "    a = (s * (s-s1) * (s-s2)*(s-s3))**0.5\n",
    "    return a\n",
    "\n",
    "s1 = float(input(\"Enter the first side of the triangle : \"))\n",
    "s2 = float(input(\"Enter the second side of the triangle : \"))\n",
    "s3 = float(input(\"Enter the third side of the triangle : \"))\n",
    "\n",
    "peri=perimeter(s1,s2,s3)\n",
    "print(\"The perimeter of the triangle is : {0:.2f}\".format(peri))\n",
    "s = peri/2\n",
    "area=triagearea(s1,s2,s3,s)\n",
    "print(\"The area of the triangle is : {0:.2f}\".format(area))"
   ]
  },
  {
   "cell_type": "code",
   "execution_count": null,
   "id": "fe2fa764-6f0c-4433-aa05-ebbf9fc5fd86",
   "metadata": {},
   "outputs": [],
   "source": []
  }
 ],
 "metadata": {
  "kernelspec": {
   "display_name": "Python 3 (ipykernel)",
   "language": "python",
   "name": "python3"
  },
  "language_info": {
   "codemirror_mode": {
    "name": "ipython",
    "version": 3
   },
   "file_extension": ".py",
   "mimetype": "text/x-python",
   "name": "python",
   "nbconvert_exporter": "python",
   "pygments_lexer": "ipython3",
   "version": "3.11.7"
  }
 },
 "nbformat": 4,
 "nbformat_minor": 5
}
