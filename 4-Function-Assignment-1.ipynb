{
 "cells": [
  {
   "cell_type": "code",
   "execution_count": 2,
   "id": "b82c8332-fbde-490f-9de1-85bdaba91c8d",
   "metadata": {},
   "outputs": [],
   "source": [
    " #Create a class and function, and list out the items in the list\n",
    "SubfieldsInAI= [\"Machine Learning\",\"Neural Networks\",\"Vision\",\"Robotics\",\"Speech Processing\",\"Natural Language Processing\"]"
   ]
  },
  {
   "cell_type": "code",
   "execution_count": 3,
   "id": "46da0538-c51a-4742-aa84-2cd2a8ef9c18",
   "metadata": {},
   "outputs": [],
   "source": [
    "def Subfields():\n",
    "    print(\"Subfields in AI are:\")\n",
    "    for sub in SubfieldsInAI:\n",
    "        print(sub)"
   ]
  },
  {
   "cell_type": "code",
   "execution_count": 4,
   "id": "a2d27fe7-14c8-4248-a91d-e4f470abab95",
   "metadata": {},
   "outputs": [
    {
     "name": "stdout",
     "output_type": "stream",
     "text": [
      "Subfields in AI are:\n",
      "Machine Learning\n",
      "Neural Networks\n",
      "Vision\n",
      "Robotics\n",
      "Speech Processing\n",
      "Natural Language Processing\n"
     ]
    }
   ],
   "source": [
    "Subfields()"
   ]
  },
  {
   "cell_type": "code",
   "execution_count": null,
   "id": "9bf45139-4109-4123-816f-cb2dac40c626",
   "metadata": {},
   "outputs": [],
   "source": []
  },
  {
   "cell_type": "code",
   "execution_count": 2,
   "id": "313e325d-2a70-4972-8425-597f5d085cb7",
   "metadata": {},
   "outputs": [
    {
     "name": "stdin",
     "output_type": "stream",
     "text": [
      "Enter a number to check odd or even: 3\n"
     ]
    },
    {
     "name": "stdout",
     "output_type": "stream",
     "text": [
      "3 is Odd Number\n"
     ]
    }
   ],
   "source": [
    "# Create a function that checks whether the given number is Odd or Even\n",
    "def oddoreven(x,y):\n",
    "    if(x == 0):\n",
    "        print(y,\"is Even Number\")\n",
    "    else:\n",
    "        print(y,\"is Odd Number\")\n",
    "num=int(input(\"Enter a number to check odd or even:\"))\n",
    "remainder = num%2\n",
    "oddoreven(remainder,num)"
   ]
  },
  {
   "cell_type": "code",
   "execution_count": 32,
   "id": "495bd6d0-22e3-4308-b632-12e1d530c987",
   "metadata": {},
   "outputs": [
    {
     "name": "stdin",
     "output_type": "stream",
     "text": [
      "Enter your Gender: Male\n",
      "Enter your Age: 23\n"
     ]
    },
    {
     "name": "stdout",
     "output_type": "stream",
     "text": [
      "ELIGIBLE\n"
     ]
    }
   ],
   "source": [
    "# Create a function that tells elegibility of marriage for male and female according to their age limit like 21 for male and 18 for female\n",
    "def elegibility(x,y):\n",
    "    if (x==\"male\" and y> 21) or (x==\"female\" and y>18):\n",
    "        print(\"ELIGIBLE\")\n",
    "    else:\n",
    "        print(\"NOT ELIGIBLE\")\n",
    "Gender=input(\"Enter your Gender:\").lower()\n",
    "Age=int(input(\"Enter your Age:\"))\n",
    "elegibility(Gender,Age)\n"
   ]
  },
  {
   "cell_type": "code",
   "execution_count": null,
   "id": "4b7a6606-f843-4515-b267-ea74508e1aab",
   "metadata": {},
   "outputs": [],
   "source": []
  },
  {
   "cell_type": "code",
   "execution_count": 4,
   "id": "2a75e9e4-1972-4fc1-8f43-714dd843080d",
   "metadata": {},
   "outputs": [
    {
     "name": "stdin",
     "output_type": "stream",
     "text": [
      "Subject1 = 98\n",
      "Subject2 = 87\n",
      "Subject3 = 95\n",
      "Subject4 = 95\n",
      "Subject5 = 93\n"
     ]
    },
    {
     "name": "stdout",
     "output_type": "stream",
     "text": [
      "Total : 468\n",
      "Percentage: 93.6000000000000\n"
     ]
    }
   ],
   "source": [
    "# calculate the percentage of your 10th mark\n",
    "sub=[\"Subject1\",\"Subject2\",\"Subject3\",\"Subject4\",\"Subject5\"]\n",
    "#mark=[98,87,95,95,93]\n",
    "mark1=int(input(\"Subject1 =\"))\n",
    "mark2=int(input(\"Subject2 =\"))\n",
    "mark3=int(input(\"Subject3 =\"))\n",
    "mark4=int(input(\"Subject4 =\"))\n",
    "mark5=int(input(\"Subject5 =\"))\n",
    "         \n",
    "total=mark1+mark2+mark3+mark4+mark5\n",
    "count=len(sub)\n",
    "\n",
    "print(\"Total :\",total)\n",
    "percentage=total/count\n",
    "print(f\"Percentage: {percentage:.13f}\")\n"
   ]
  },
  {
   "cell_type": "code",
   "execution_count": null,
   "id": "1651f401-85ec-4ac3-a019-2001a40d7cde",
   "metadata": {},
   "outputs": [],
   "source": []
  },
  {
   "cell_type": "code",
   "execution_count": 6,
   "id": "4d38c169-4702-479d-bc52-708aed06f6b9",
   "metadata": {},
   "outputs": [
    {
     "name": "stdin",
     "output_type": "stream",
     "text": [
      "Height: 32\n",
      "Breadth: 34\n"
     ]
    },
    {
     "name": "stdout",
     "output_type": "stream",
     "text": [
      "Area formula:(Height*Breadth)/2\n",
      "Area of Triangle: 544.0\n"
     ]
    },
    {
     "name": "stdin",
     "output_type": "stream",
     "text": [
      "Height1: 2\n",
      "Height2: 4\n",
      "Breadth: 4\n"
     ]
    },
    {
     "name": "stdout",
     "output_type": "stream",
     "text": [
      "Perimeter formula: Height1+Height2+Breadth\n",
      "Perimeter of Triangle: 10\n"
     ]
    }
   ],
   "source": [
    " #print area and perimeter of triangle using class and functions\n",
    "def triangle():\n",
    "    height=int(input(\"Height:\"))\n",
    "    breadth=int(input(\"Breadth:\"))\n",
    "    area=(height*breadth)/2\n",
    "    print(\"Area formula:(Height*Breadth)/2\")\n",
    "    print(\"Area of Triangle:\",area)\n",
    "\n",
    "    height1=int(input(\"Height1:\"))\n",
    "    height2=int(input(\"Height2:\"))\n",
    "    breadth=int(input(\"Breadth:\"))\n",
    "    perimeter=height1+height2+breadth\n",
    "    print(\"Perimeter formula: Height1+Height2+Breadth\")\n",
    "    print(\"Perimeter of Triangle:\",perimeter)\n",
    "    \n",
    "triangle()"
   ]
  },
  {
   "cell_type": "code",
   "execution_count": null,
   "id": "fe2fa764-6f0c-4433-aa05-ebbf9fc5fd86",
   "metadata": {},
   "outputs": [],
   "source": []
  }
 ],
 "metadata": {
  "kernelspec": {
   "display_name": "Python 3 (ipykernel)",
   "language": "python",
   "name": "python3"
  },
  "language_info": {
   "codemirror_mode": {
    "name": "ipython",
    "version": 3
   },
   "file_extension": ".py",
   "mimetype": "text/x-python",
   "name": "python",
   "nbconvert_exporter": "python",
   "pygments_lexer": "ipython3",
   "version": "3.11.7"
  }
 },
 "nbformat": 4,
 "nbformat_minor": 5
}
