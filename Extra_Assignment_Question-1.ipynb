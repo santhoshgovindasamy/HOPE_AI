{
 "cells": [
  {
   "cell_type": "code",
   "execution_count": null,
   "id": "48abc8d9-67bc-4f91-9984-ee73bf58ab55",
   "metadata": {},
   "outputs": [],
   "source": [
    "#Extra_Assignment_Question-1"
   ]
  },
  {
   "cell_type": "code",
   "execution_count": 9,
   "id": "abb64e5d-3d70-465c-8b70-229b698a0a0f",
   "metadata": {},
   "outputs": [
    {
     "name": "stdout",
     "output_type": "stream",
     "text": [
      "HOPE AI\n"
     ]
    }
   ],
   "source": [
    "print(\"HOPE AI\")"
   ]
  },
  {
   "cell_type": "code",
   "execution_count": null,
   "id": "f16626b0-7492-4797-881e-18f09fe31fd8",
   "metadata": {},
   "outputs": [],
   "source": []
  },
  {
   "cell_type": "code",
   "execution_count": 10,
   "id": "df81ac97-51f1-472f-a9e6-36349b5ac23c",
   "metadata": {},
   "outputs": [
    {
     "name": "stdin",
     "output_type": "stream",
     "text": [
      "Enter your institute name? : HOPE AI\n"
     ]
    }
   ],
   "source": [
    "institute_name=input(\"Enter your institute name? :\")\n"
   ]
  },
  {
   "cell_type": "code",
   "execution_count": null,
   "id": "127dfe71-0fee-4593-be1d-0a51d6735c07",
   "metadata": {},
   "outputs": [],
   "source": []
  },
  {
   "cell_type": "code",
   "execution_count": 11,
   "id": "7a8a031b-80f3-48c2-885a-976539616390",
   "metadata": {},
   "outputs": [
    {
     "name": "stdin",
     "output_type": "stream",
     "text": [
      "Enter your name: Ram\n",
      "Enter your age: 34\n",
      "Enter your school name: SIV\n",
      "Enter your degree: BE-EEE\n"
     ]
    }
   ],
   "source": [
    "name=input(\"Enter your name:\")\n",
    "age=int(input(\"Enter your age:\"))\n",
    "school=input(\"Enter your school name:\")\n",
    "degree=input(\"Enter your degree:\")\n"
   ]
  },
  {
   "cell_type": "code",
   "execution_count": null,
   "id": "7c07ee8e-5c76-40bc-bac8-e5229ec85b43",
   "metadata": {},
   "outputs": [],
   "source": []
  },
  {
   "cell_type": "code",
   "execution_count": 13,
   "id": "b0df1fd8-bd03-4ed6-8f89-70ebe027db18",
   "metadata": {},
   "outputs": [
    {
     "name": "stdin",
     "output_type": "stream",
     "text": [
      "a= 34\n",
      "b= 43\n"
     ]
    },
    {
     "name": "stdout",
     "output_type": "stream",
     "text": [
      "add = 77\n"
     ]
    }
   ],
   "source": [
    "a=int(input(\"a=\"))\n",
    "b=int(input(\"b=\"))\n",
    "add = b+a\n",
    "print(\"add =\",add)\n"
   ]
  },
  {
   "cell_type": "code",
   "execution_count": null,
   "id": "87b08951-1c9e-40b4-98b6-f6472d962764",
   "metadata": {},
   "outputs": [],
   "source": []
  },
  {
   "cell_type": "code",
   "execution_count": 15,
   "id": "23d451e7-41d4-408b-8c9f-fcf7e2cf2a27",
   "metadata": {},
   "outputs": [
    {
     "name": "stdin",
     "output_type": "stream",
     "text": [
      "a= 43\n",
      "b= 34\n"
     ]
    },
    {
     "name": "stdout",
     "output_type": "stream",
     "text": [
      "sub = 9\n"
     ]
    }
   ],
   "source": [
    "a=int(input(\"a=\"))\n",
    "b=int(input(\"b=\"))\n",
    "sub = a-b\n",
    "print(\"sub =\",sub)"
   ]
  },
  {
   "cell_type": "code",
   "execution_count": null,
   "id": "ed40ebf8-80e1-4287-9dd5-e8c3689d10d0",
   "metadata": {},
   "outputs": [],
   "source": []
  },
  {
   "cell_type": "code",
   "execution_count": 18,
   "id": "34a83ccf-bdbe-419e-b652-fa3089a265a1",
   "metadata": {},
   "outputs": [
    {
     "name": "stdin",
     "output_type": "stream",
     "text": [
      "a= 43\n",
      "b= 34\n"
     ]
    },
    {
     "name": "stdout",
     "output_type": "stream",
     "text": [
      "mul = 1462\n"
     ]
    }
   ],
   "source": [
    "a=int(input(\"a=\"))\n",
    "b=int(input(\"b=\"))\n",
    "mul = b*a\n",
    "print(\"mul =\",mul)"
   ]
  },
  {
   "cell_type": "code",
   "execution_count": null,
   "id": "9276e9a6-d6f3-423b-a2b6-0f65e1186061",
   "metadata": {},
   "outputs": [],
   "source": []
  },
  {
   "cell_type": "code",
   "execution_count": 19,
   "id": "a904ac8a-376b-4717-a4e5-db7bfc26f21b",
   "metadata": {},
   "outputs": [
    {
     "name": "stdin",
     "output_type": "stream",
     "text": [
      "a= 76\n",
      "b= 31\n"
     ]
    },
    {
     "name": "stdout",
     "output_type": "stream",
     "text": [
      "Float div = 2.4516129032258065\n"
     ]
    }
   ],
   "source": [
    "a=int(input(\"a=\"))\n",
    "b=int(input(\"b=\"))\n",
    "div = a/b\n",
    "print(\"Float div =\",div)"
   ]
  },
  {
   "cell_type": "code",
   "execution_count": null,
   "id": "1ecb352d-abda-4d23-948e-c1d380f3201a",
   "metadata": {},
   "outputs": [],
   "source": []
  },
  {
   "cell_type": "code",
   "execution_count": 20,
   "id": "75db51b1-c84d-4c82-a3a9-cb8fd0f4178e",
   "metadata": {},
   "outputs": [
    {
     "name": "stdin",
     "output_type": "stream",
     "text": [
      "a= 76\n",
      "b= 31\n"
     ]
    },
    {
     "name": "stdout",
     "output_type": "stream",
     "text": [
      "Float div = 2\n"
     ]
    }
   ],
   "source": [
    "a=int(input(\"a=\"))\n",
    "b=int(input(\"b=\"))\n",
    "div = a//b\n",
    "print(\"Float div =\",div)"
   ]
  },
  {
   "cell_type": "code",
   "execution_count": null,
   "id": "a113bfa4-3a28-473c-b85f-eb2bc043632b",
   "metadata": {},
   "outputs": [],
   "source": []
  },
  {
   "cell_type": "code",
   "execution_count": 21,
   "id": "512a2b6e-a37a-42f8-9202-8535833efdfd",
   "metadata": {},
   "outputs": [
    {
     "name": "stdin",
     "output_type": "stream",
     "text": [
      "a= 76\n",
      "b= 31\n"
     ]
    },
    {
     "name": "stdout",
     "output_type": "stream",
     "text": [
      "Modulo = 14\n"
     ]
    }
   ],
   "source": [
    "a=int(input(\"a=\"))\n",
    "b=int(input(\"b=\"))\n",
    "mod = a%b\n",
    "print(\"Modulo =\",mod)"
   ]
  },
  {
   "cell_type": "code",
   "execution_count": null,
   "id": "b6512da5-c54c-40fc-8761-a128a73261ca",
   "metadata": {},
   "outputs": [],
   "source": []
  },
  {
   "cell_type": "code",
   "execution_count": 23,
   "id": "e884e088-d099-4e25-b925-3d548e0af1dc",
   "metadata": {},
   "outputs": [
    {
     "name": "stdin",
     "output_type": "stream",
     "text": [
      "a= 4\n",
      "b= 4\n"
     ]
    },
    {
     "name": "stdout",
     "output_type": "stream",
     "text": [
      "power = 256\n"
     ]
    }
   ],
   "source": [
    "a=int(input(\"a=\"))\n",
    "b=int(input(\"b=\"))\n",
    "pow = a**b\n",
    "print(\"power =\",pow)"
   ]
  },
  {
   "cell_type": "code",
   "execution_count": null,
   "id": "e09cfe6c-4e6a-4993-89fe-30f139699505",
   "metadata": {},
   "outputs": [],
   "source": []
  }
 ],
 "metadata": {
  "kernelspec": {
   "display_name": "Python 3 (ipykernel)",
   "language": "python",
   "name": "python3"
  },
  "language_info": {
   "codemirror_mode": {
    "name": "ipython",
    "version": 3
   },
   "file_extension": ".py",
   "mimetype": "text/x-python",
   "name": "python",
   "nbconvert_exporter": "python",
   "pygments_lexer": "ipython3",
   "version": "3.11.7"
  }
 },
 "nbformat": 4,
 "nbformat_minor": 5
}
