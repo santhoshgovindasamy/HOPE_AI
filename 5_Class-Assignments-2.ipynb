{
 "cells": [
  {
   "cell_type": "code",
   "execution_count": 1,
   "id": "8881fa7c-e832-4175-ada6-4da33993b0d5",
   "metadata": {},
   "outputs": [
    {
     "name": "stdout",
     "output_type": "stream",
     "text": [
      "Num1= 10\n",
      "Num2= 30\n",
      "Add= 40\n"
     ]
    }
   ],
   "source": [
    "from Multiplefunction import multiplefunction\n",
    "multiplefunction.add()"
   ]
  },
  {
   "cell_type": "code",
   "execution_count": null,
   "id": "5b22d823-9106-4fb8-9770-4c066f1a2d76",
   "metadata": {},
   "outputs": [],
   "source": []
  },
  {
   "cell_type": "code",
   "execution_count": 2,
   "id": "47d644af-2de3-48c5-93f3-c87fc9486aed",
   "metadata": {},
   "outputs": [
    {
     "name": "stdin",
     "output_type": "stream",
     "text": [
      "Enter the BMI Index:  28\n"
     ]
    },
    {
     "name": "stdout",
     "output_type": "stream",
     "text": [
      "Very Overweight\n"
     ]
    }
   ],
   "source": [
    "multiplefunction.BMI()"
   ]
  },
  {
   "cell_type": "code",
   "execution_count": null,
   "id": "94d170a5-f60f-4c01-b931-7880e5d460ea",
   "metadata": {},
   "outputs": [],
   "source": []
  },
  {
   "cell_type": "code",
   "execution_count": 3,
   "id": "afd48b81-9b5e-4bae-ba87-784e5f297e26",
   "metadata": {},
   "outputs": [
    {
     "name": "stdout",
     "output_type": "stream",
     "text": [
      "Sub-fields in AI are:\n",
      "Machine Learning\n",
      "Neural Networks\n",
      "Vision\n",
      "Robotics\n",
      "Speech Processing\n",
      "Natural Language Processing\n"
     ]
    }
   ],
   "source": [
    "multiplefunction.Subfields()"
   ]
  },
  {
   "cell_type": "code",
   "execution_count": null,
   "id": "9b5e6b9b-eb58-41cf-9c92-e8900c28c394",
   "metadata": {},
   "outputs": [],
   "source": []
  },
  {
   "cell_type": "code",
   "execution_count": 4,
   "id": "8c855d70-7f6d-40d7-a614-63b86601656f",
   "metadata": {},
   "outputs": [
    {
     "name": "stdin",
     "output_type": "stream",
     "text": [
      "Enter a number to check odd or even: 4\n"
     ]
    },
    {
     "name": "stdout",
     "output_type": "stream",
     "text": [
      "4 is Even Number\n"
     ]
    }
   ],
   "source": [
    "multiplefunction.oddeven()"
   ]
  },
  {
   "cell_type": "code",
   "execution_count": null,
   "id": "b23d0fdc-cca8-4769-98db-2f52eaaa3540",
   "metadata": {},
   "outputs": [],
   "source": []
  },
  {
   "cell_type": "code",
   "execution_count": 5,
   "id": "1eaffe61-0fc0-499a-8a24-1c8f19af5026",
   "metadata": {},
   "outputs": [
    {
     "name": "stdin",
     "output_type": "stream",
     "text": [
      "Enter your Gender: Male\n",
      "Enter your Age: 18\n"
     ]
    },
    {
     "name": "stdout",
     "output_type": "stream",
     "text": [
      "NOT ELIGIBLE\n"
     ]
    }
   ],
   "source": [
    "multiplefunction.elegibility()"
   ]
  },
  {
   "cell_type": "code",
   "execution_count": null,
   "id": "50d35939-485b-4288-ab83-773deb211bfb",
   "metadata": {},
   "outputs": [],
   "source": []
  },
  {
   "cell_type": "code",
   "execution_count": 6,
   "id": "6a40f939-db53-40e3-9edd-6080d4671c88",
   "metadata": {},
   "outputs": [
    {
     "name": "stdin",
     "output_type": "stream",
     "text": [
      "Subject1 = 98\n",
      "Subject2 = 87\n",
      "Subject3 = 95\n",
      "Subject4 = 95\n",
      "Subject5 = 93\n"
     ]
    },
    {
     "name": "stdout",
     "output_type": "stream",
     "text": [
      "Total : 468\n",
      "Percentage: 93.6000000000000\n"
     ]
    }
   ],
   "source": [
    "multiplefunction.percentage()"
   ]
  },
  {
   "cell_type": "code",
   "execution_count": null,
   "id": "fbd233dd-145d-48dd-b950-36cdc234bb5c",
   "metadata": {},
   "outputs": [],
   "source": []
  },
  {
   "cell_type": "code",
   "execution_count": 7,
   "id": "a47d1421-1bcf-4d85-b8fa-ba296cbc3597",
   "metadata": {},
   "outputs": [
    {
     "name": "stdin",
     "output_type": "stream",
     "text": [
      "Height: 32\n",
      "Breadth: 34\n"
     ]
    },
    {
     "name": "stdout",
     "output_type": "stream",
     "text": [
      "Area formula:(Height*Breadth)/2\n",
      "Area of Triangle: 544.0\n"
     ]
    },
    {
     "name": "stdin",
     "output_type": "stream",
     "text": [
      "Height1: 2\n",
      "Height2: 4\n",
      "Breadth: 4\n"
     ]
    },
    {
     "name": "stdout",
     "output_type": "stream",
     "text": [
      "Perimeter formula: Height1+Height2+Breadth\n",
      "Perimeter of Triangle: 10\n"
     ]
    }
   ],
   "source": [
    "multiplefunction.triangle()"
   ]
  },
  {
   "cell_type": "code",
   "execution_count": null,
   "id": "fbf2266f-3428-499e-b513-132cd6f6a635",
   "metadata": {},
   "outputs": [],
   "source": []
  }
 ],
 "metadata": {
  "kernelspec": {
   "display_name": "Python 3 (ipykernel)",
   "language": "python",
   "name": "python3"
  },
  "language_info": {
   "codemirror_mode": {
    "name": "ipython",
    "version": 3
   },
   "file_extension": ".py",
   "mimetype": "text/x-python",
   "name": "python",
   "nbconvert_exporter": "python",
   "pygments_lexer": "ipython3",
   "version": "3.11.7"
  }
 },
 "nbformat": 4,
 "nbformat_minor": 5
}
